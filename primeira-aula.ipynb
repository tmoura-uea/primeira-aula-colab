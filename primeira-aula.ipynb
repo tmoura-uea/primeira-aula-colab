{
  "nbformat": 4,
  "nbformat_minor": 0,
  "metadata": {
    "colab": {
      "name": "Untitled0.ipynb",
      "provenance": [],
      "authorship_tag": "ABX9TyNPDYD+9cW7B8GxkK8nQT+r",
      "include_colab_link": true
    },
    "kernelspec": {
      "name": "python3",
      "display_name": "Python 3"
    }
  },
  "cells": [
    {
      "cell_type": "markdown",
      "metadata": {
        "id": "view-in-github",
        "colab_type": "text"
      },
      "source": [
        "<a href=\"https://colab.research.google.com/github/tmoura-uea/primeira-aula-colab/blob/main/primeira-aula.ipynb\" target=\"_parent\"><img src=\"https://colab.research.google.com/assets/colab-badge.svg\" alt=\"Open In Colab\"/></a>"
      ]
    },
    {
      "cell_type": "code",
      "metadata": {
        "id": "IB6JeOYNyTpw"
      },
      "source": [
        "$\\sqrt{3x-1}+{1+x}^2$"
      ],
      "execution_count": null,
      "outputs": []
    },
    {
      "cell_type": "markdown",
      "metadata": {
        "id": "f-WqFVPb4eJ2"
      },
      "source": [
        "$e^ex=\\sum_{i=0}^\\infty\\frac{1}{i!}x^i$\n"
      ]
    },
    {
      "cell_type": "markdown",
      "metadata": {
        "id": "ZdxAs1dp5KqT"
      },
      "source": [
        "$\\dpi{400}\\alpha + \\frac{2\\beta}{\\gamma}$\n",
        "\n"
      ]
    },
    {
      "cell_type": "markdown",
      "metadata": {
        "id": "H6gny6Fe1g0T"
      },
      "source": [
        "$\\sqrt{3x-1}+{1+x}^2$\n"
      ]
    },
    {
      "cell_type": "markdown",
      "metadata": {
        "id": "cDt3Se_r4ZYV"
      },
      "source": [
        ""
      ]
    }
  ]
}